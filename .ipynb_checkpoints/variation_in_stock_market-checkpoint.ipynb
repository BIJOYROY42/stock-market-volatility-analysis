{
 "cells": [
  {
   "cell_type": "markdown",
   "metadata": {
    "colab_type": "text",
    "id": "view-in-github"
   },
   "source": [
    "<a href=\"https://colab.research.google.com/github/dwarkeshsp/stock-market-volatility-analysis/blob/master/variation_in_stock_market.ipynb\" target=\"_parent\"><img src=\"https://colab.research.google.com/assets/colab-badge.svg\" alt=\"Open In Colab\"/></a>"
   ]
  },
  {
   "cell_type": "markdown",
   "metadata": {
    "colab_type": "text",
    "id": "9khuhPJ6A2hJ"
   },
   "source": [
    "## Why does volatility in the stock market drive the median return down to 0 but keep the average return the same?"
   ]
  },
  {
   "cell_type": "markdown",
   "metadata": {
    "colab_type": "text",
    "id": "RSvIapRXA2Zb"
   },
   "source": [
    "The stock market grows on average 10% percent a year. If the stock market grew exactly 10% percent every year for a century, your investment would increase 13781 fold.\n",
    "\n",
    "But the stock market doesn't go up exactly 10% percent every year. Sometimes it's a little more, sometimes it's a little less (or as with the Coronavirus fallout right now, a lot less). \n",
    "\n",
    "What happens to our returns as this volatility increases? Let's run an experiment!\n",
    "\n",
    "Let's test out different stock markets based on their volatility. So all the markets will grow a person's money on average 10% every year for a century. But what that return actually is for any given year will be randomly determined based on a normal distribution centered at 10% percent. Different markets will have a different standard deviation for this distribution. Let's test out every market that has a standard deviation of returns between 0% (you'll get 10% returns every year) to 35% (it'll be wild as shit). To get a useful sample size, in every markets we'll put 250000 investors, each of them with the starting amount of $1 and each getting a different random return every year for a century based on how volatile their stock market is.\n",
    "\n",
    "Would the median investor make the same amount of money in long run across all these markets? Would the stock market as a whole rise the same?\n",
    "\n",
    "The answer is very suprising.\n"
   ]
  },
  {
   "cell_type": "code",
   "execution_count": 1,
   "metadata": {
    "colab": {},
    "colab_type": "code",
    "id": "lg_BDKN21JHq"
   },
   "outputs": [],
   "source": [
    "import random\n",
    "import numpy as np\n",
    "import statistics\n",
    "import matplotlib.pyplot as plt\n",
    "from scipy.stats import skew as calc_skew\n",
    "import seaborn as sns\n",
    "from scipy.optimize import curve_fit\n",
    "from scipy.stats import norm\n",
    "import pylab\n",
    "import math"
   ]
  },
  {
   "cell_type": "code",
   "execution_count": 2,
   "metadata": {
    "colab": {},
    "colab_type": "code",
    "id": "aE_9Yyhe1JH0"
   },
   "outputs": [],
   "source": [
    "def returns(starting_amount, avg_growth_rate, st_dev, time_horizon):\n",
    "    returns = starting_amount\n",
    "    growth_per_year = np.random.normal(avg_growth_rate, st_dev, time_horizon)\n",
    "    for year in range(time_horizon):\n",
    "        returns *= 1 + growth_per_year[year]\n",
    "    return returns"
   ]
  },
  {
   "cell_type": "code",
   "execution_count": 3,
   "metadata": {
    "colab": {},
    "colab_type": "code",
    "id": "mUJMETJCuVoy"
   },
   "outputs": [],
   "source": [
    "def run_experiment(growth_rate, time_horizon, st_dev_range, ITERATIONS):\n",
    "  mean, median, skew = [], [], []\n",
    "  for st_dev in st_dev_range:\n",
    "    sample = []\n",
    "    for i in range(ITERATIONS):\n",
    "      sample.append(returns(1, growth_rate, st_dev, time_horizon))\n",
    "    mean.append(statistics.mean(sample))\n",
    "    median.append(statistics.median(sample)) \n",
    "    skew.append(calc_skew(sample))\n",
    "  return mean, median, skew"
   ]
  },
  {
   "cell_type": "code",
   "execution_count": null,
   "metadata": {
    "colab": {},
    "colab_type": "code",
    "id": "fUdT5oVi7lFK"
   },
   "outputs": [],
   "source": [
    "upper_bound = 0.35\n",
    "st_dev_range = np.linspace(0, upper_bound, int(upper_bound * 100) + 1)\n",
    "mean, median, skew = run_experiment(growth_rate=0.1, time_horizon=100, st_dev_range=st_dev_range, ITERATIONS=250000)"
   ]
  },
  {
   "cell_type": "code",
   "execution_count": null,
   "metadata": {
    "colab": {
     "base_uri": "https://localhost:8080/",
     "height": 295
    },
    "colab_type": "code",
    "id": "YXEgfY24mIOO",
    "outputId": "7f50e2cf-1b43-4a82-c858-3c47cac43a05"
   },
   "outputs": [],
   "source": [
    "plt.plot(st_dev_range, mean, label='mean')\n",
    "plt.plot(st_dev_range, median, label='median')\n",
    "plt.title('The effect of volatility on stock market returns')\n",
    "plt.legend(loc='lower left')\n",
    "plt.xlabel('Standard deviation in yearly growth')\n",
    "plt.ylabel('Returns after 100yrs of avg 10% growth')\n",
    "# plt.show()\n",
    "plt.savefig(fname='graph.png')"
   ]
  },
  {
   "cell_type": "code",
   "execution_count": null,
   "metadata": {},
   "outputs": [],
   "source": [
    "def fit_and_plot(function, x, y):\n",
    "    popt, pcov = curve_fit(function, x, y)\n",
    "    print(popt)\n",
    "\n",
    "    y_curve = function(x, *popt)\n",
    "\n",
    "    pylab.plot(x, y, 'o', label='data')\n",
    "    pylab.plot(x, y_curve, label='fit')\n",
    "    pylab.legend(loc='best')\n",
    "    pylab.show()"
   ]
  },
  {
   "cell_type": "code",
   "execution_count": null,
   "metadata": {
    "colab": {
     "base_uri": "https://localhost:8080/",
     "height": 282
    },
    "colab_type": "code",
    "id": "O0EHu0MNEAA5",
    "outputId": "55bf1330-b033-4aa4-95e4-9a7868cad81d",
    "scrolled": true
   },
   "outputs": [],
   "source": [
    "def sigmoid(x, a, b):\n",
    "  return 1.0 / (1.0 + np.exp(-a*(x-b)))\n",
    "\n",
    "xdata = [i * 100 for i in st_dev_range]\n",
    "ydata = [i / median[0] for i in median]\n",
    "\n",
    "fit_and_plot(sigmoid, xdata, ydata)"
   ]
  },
  {
   "cell_type": "code",
   "execution_count": null,
   "metadata": {},
   "outputs": [],
   "source": [
    "def normal(x, dev, a):\n",
    "    return ( a / (dev * (2 * math.pi) ** 0.5)) * np.exp(-(x ** 2) / (2 * (dev ** 2)))\n",
    "\n",
    "x_reflected = np.concatenate((-1 * st_dev_range[len(st_dev_range):0:-1], st_dev_range))\n",
    "y_reflected = np.concatenate((median[len(median):0:-1], median)) \n",
    "\n",
    "fit_and_plot(normal, x_reflected, y_reflected)"
   ]
  },
  {
   "cell_type": "code",
   "execution_count": null,
   "metadata": {
    "colab": {
     "base_uri": "https://localhost:8080/",
     "height": 266
    },
    "colab_type": "code",
    "id": "4vJ7_sGpop_J",
    "outputId": "41964318-c1a2-40ad-f6e0-aeb8218a3e9f"
   },
   "outputs": [],
   "source": [
    "plt.plot(st_dev_range, skew)\n",
    "plt.show()"
   ]
  }
 ],
 "metadata": {
  "colab": {
   "collapsed_sections": [],
   "include_colab_link": true,
   "name": "variation_in_stock_market.ipynb",
   "provenance": []
  },
  "kernelspec": {
   "display_name": "Python 3",
   "language": "python",
   "name": "python3"
  },
  "language_info": {
   "codemirror_mode": {
    "name": "ipython",
    "version": 3
   },
   "file_extension": ".py",
   "mimetype": "text/x-python",
   "name": "python",
   "nbconvert_exporter": "python",
   "pygments_lexer": "ipython3",
   "version": "3.8.3"
  }
 },
 "nbformat": 4,
 "nbformat_minor": 1
}
